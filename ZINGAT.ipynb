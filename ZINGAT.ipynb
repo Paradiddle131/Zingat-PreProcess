{
 "cells": [
  {
   "cell_type": "code",
   "execution_count": 205,
   "metadata": {},
   "outputs": [],
   "source": [
    "import numpy as np\n",
    "import pandas as pd"
   ]
  },
  {
   "cell_type": "code",
   "execution_count": 206,
   "metadata": {},
   "outputs": [
    {
     "data": {
      "text/html": [
       "<div>\n",
       "<style scoped>\n",
       "    .dataframe tbody tr th:only-of-type {\n",
       "        vertical-align: middle;\n",
       "    }\n",
       "\n",
       "    .dataframe tbody tr th {\n",
       "        vertical-align: top;\n",
       "    }\n",
       "\n",
       "    .dataframe thead th {\n",
       "        text-align: right;\n",
       "    }\n",
       "</style>\n",
       "<table border=\"1\" class=\"dataframe\">\n",
       "  <thead>\n",
       "    <tr style=\"text-align: right;\">\n",
       "      <th></th>\n",
       "      <th>city İd</th>\n",
       "      <th>county İd</th>\n",
       "      <th>district İd</th>\n",
       "      <th>Status</th>\n",
       "      <th>floor_no</th>\n",
       "      <th>room_count</th>\n",
       "      <th>brut_size</th>\n",
       "      <th>size_net</th>\n",
       "      <th>bathroomcount</th>\n",
       "      <th>heating</th>\n",
       "      <th>balkoy</th>\n",
       "      <th>Price M2</th>\n",
       "    </tr>\n",
       "  </thead>\n",
       "  <tbody>\n",
       "    <tr>\n",
       "      <th>0</th>\n",
       "      <td>1.0</td>\n",
       "      <td>2.0</td>\n",
       "      <td>3.0</td>\n",
       "      <td>Sales</td>\n",
       "      <td>3</td>\n",
       "      <td>3</td>\n",
       "      <td>140</td>\n",
       "      <td>112.0</td>\n",
       "      <td>1</td>\n",
       "      <td>1</td>\n",
       "      <td>1</td>\n",
       "      <td>2115.09</td>\n",
       "    </tr>\n",
       "    <tr>\n",
       "      <th>1</th>\n",
       "      <td>1.0</td>\n",
       "      <td>2.0</td>\n",
       "      <td>3.0</td>\n",
       "      <td>Sales</td>\n",
       "      <td>1</td>\n",
       "      <td>3</td>\n",
       "      <td>125</td>\n",
       "      <td>100.0</td>\n",
       "      <td>1</td>\n",
       "      <td>1</td>\n",
       "      <td>1</td>\n",
       "      <td>2115.09</td>\n",
       "    </tr>\n",
       "    <tr>\n",
       "      <th>2</th>\n",
       "      <td>1.0</td>\n",
       "      <td>2.0</td>\n",
       "      <td>3.0</td>\n",
       "      <td>Sales</td>\n",
       "      <td>4</td>\n",
       "      <td>3</td>\n",
       "      <td>135</td>\n",
       "      <td>108.0</td>\n",
       "      <td>2</td>\n",
       "      <td>1</td>\n",
       "      <td>1</td>\n",
       "      <td>2175.10</td>\n",
       "    </tr>\n",
       "    <tr>\n",
       "      <th>3</th>\n",
       "      <td>1.0</td>\n",
       "      <td>2.0</td>\n",
       "      <td>3.0</td>\n",
       "      <td>Sales</td>\n",
       "      <td>3</td>\n",
       "      <td>4</td>\n",
       "      <td>165</td>\n",
       "      <td>132.0</td>\n",
       "      <td>2</td>\n",
       "      <td>1</td>\n",
       "      <td>1</td>\n",
       "      <td>2115.09</td>\n",
       "    </tr>\n",
       "    <tr>\n",
       "      <th>4</th>\n",
       "      <td>1.0</td>\n",
       "      <td>2.0</td>\n",
       "      <td>5.0</td>\n",
       "      <td>Sales</td>\n",
       "      <td>1</td>\n",
       "      <td>4</td>\n",
       "      <td>280</td>\n",
       "      <td>224.0</td>\n",
       "      <td>2</td>\n",
       "      <td>1</td>\n",
       "      <td>1</td>\n",
       "      <td>3745.97</td>\n",
       "    </tr>\n",
       "  </tbody>\n",
       "</table>\n",
       "</div>"
      ],
      "text/plain": [
       "   city İd  county İd  district İd Status  floor_no  room_count  brut_size  \\\n",
       "0      1.0        2.0          3.0  Sales         3           3        140   \n",
       "1      1.0        2.0          3.0  Sales         1           3        125   \n",
       "2      1.0        2.0          3.0  Sales         4           3        135   \n",
       "3      1.0        2.0          3.0  Sales         3           4        165   \n",
       "4      1.0        2.0          5.0  Sales         1           4        280   \n",
       "\n",
       "   size_net  bathroomcount  heating  balkoy  Price M2  \n",
       "0     112.0              1        1       1   2115.09  \n",
       "1     100.0              1        1       1   2115.09  \n",
       "2     108.0              2        1       1   2175.10  \n",
       "3     132.0              2        1       1   2115.09  \n",
       "4     224.0              2        1       1   3745.97  "
      ]
     },
     "execution_count": 206,
     "metadata": {},
     "output_type": "execute_result"
    }
   ],
   "source": [
    "df = pd.read_excel('public_data.xlsx',sheet_name='Sales')\n",
    "df.head()"
   ]
  },
  {
   "cell_type": "code",
   "execution_count": 207,
   "metadata": {},
   "outputs": [],
   "source": [
    "columns = df.columns\n",
    "values = df.values"
   ]
  },
  {
   "cell_type": "code",
   "execution_count": 208,
   "metadata": {},
   "outputs": [
    {
     "data": {
      "text/plain": [
       "Index(['city İd', 'county İd', 'district İd', 'Status', 'floor_no',\n",
       "       'room_count', 'brut_size', 'size_net', 'bathroomcount', 'heating',\n",
       "       'balkoy', 'Price M2'],\n",
       "      dtype='object')"
      ]
     },
     "execution_count": 208,
     "metadata": {},
     "output_type": "execute_result"
    }
   ],
   "source": [
    "columns"
   ]
  },
  {
   "cell_type": "code",
   "execution_count": 209,
   "metadata": {},
   "outputs": [
    {
     "data": {
      "text/plain": [
       "array([[1.0, 2.0, 3.0, ..., 1, 1, 2115.09],\n",
       "       [1.0, 2.0, 3.0, ..., 1, 1, 2115.09],\n",
       "       [1.0, 2.0, 3.0, ..., 1, 1, 2175.1],\n",
       "       ...,\n",
       "       [nan, nan, nan, ..., 1, 1, 5326.4],\n",
       "       [nan, nan, nan, ..., 1, 1, 6639.05],\n",
       "       [nan, nan, nan, ..., 1, 1, 6639.05]], dtype=object)"
      ]
     },
     "execution_count": 209,
     "metadata": {},
     "output_type": "execute_result"
    }
   ],
   "source": [
    "values"
   ]
  },
  {
   "cell_type": "code",
   "execution_count": 210,
   "metadata": {},
   "outputs": [
    {
     "data": {
      "text/plain": [
       "(10117, 12)"
      ]
     },
     "execution_count": 210,
     "metadata": {},
     "output_type": "execute_result"
    }
   ],
   "source": [
    "df.shape"
   ]
  },
  {
   "cell_type": "code",
   "execution_count": 211,
   "metadata": {},
   "outputs": [
    {
     "data": {
      "text/html": [
       "<div>\n",
       "<style scoped>\n",
       "    .dataframe tbody tr th:only-of-type {\n",
       "        vertical-align: middle;\n",
       "    }\n",
       "\n",
       "    .dataframe tbody tr th {\n",
       "        vertical-align: top;\n",
       "    }\n",
       "\n",
       "    .dataframe thead th {\n",
       "        text-align: right;\n",
       "    }\n",
       "</style>\n",
       "<table border=\"1\" class=\"dataframe\">\n",
       "  <thead>\n",
       "    <tr style=\"text-align: right;\">\n",
       "      <th></th>\n",
       "      <th>city İd</th>\n",
       "      <th>county İd</th>\n",
       "      <th>district İd</th>\n",
       "      <th>floor_no</th>\n",
       "      <th>room_count</th>\n",
       "      <th>brut_size</th>\n",
       "      <th>size_net</th>\n",
       "      <th>bathroomcount</th>\n",
       "      <th>heating</th>\n",
       "      <th>balkoy</th>\n",
       "      <th>Price M2</th>\n",
       "    </tr>\n",
       "  </thead>\n",
       "  <tbody>\n",
       "    <tr>\n",
       "      <th>count</th>\n",
       "      <td>2424.000000</td>\n",
       "      <td>2424.000000</td>\n",
       "      <td>2423.000000</td>\n",
       "      <td>10117.000000</td>\n",
       "      <td>10117.000000</td>\n",
       "      <td>10117.000000</td>\n",
       "      <td>10117.000000</td>\n",
       "      <td>10117.000000</td>\n",
       "      <td>10117.000000</td>\n",
       "      <td>10117.000000</td>\n",
       "      <td>10117.000000</td>\n",
       "    </tr>\n",
       "    <tr>\n",
       "      <th>mean</th>\n",
       "      <td>1.984323</td>\n",
       "      <td>1.608498</td>\n",
       "      <td>38.527033</td>\n",
       "      <td>3.056341</td>\n",
       "      <td>2.599881</td>\n",
       "      <td>131.633785</td>\n",
       "      <td>105.307028</td>\n",
       "      <td>1.465059</td>\n",
       "      <td>0.933577</td>\n",
       "      <td>0.705940</td>\n",
       "      <td>2769.725833</td>\n",
       "    </tr>\n",
       "    <tr>\n",
       "      <th>std</th>\n",
       "      <td>0.640948</td>\n",
       "      <td>0.796055</td>\n",
       "      <td>23.836198</td>\n",
       "      <td>2.846541</td>\n",
       "      <td>0.881487</td>\n",
       "      <td>44.959646</td>\n",
       "      <td>35.967716</td>\n",
       "      <td>0.603052</td>\n",
       "      <td>0.249032</td>\n",
       "      <td>0.455641</td>\n",
       "      <td>982.250587</td>\n",
       "    </tr>\n",
       "    <tr>\n",
       "      <th>min</th>\n",
       "      <td>1.000000</td>\n",
       "      <td>1.000000</td>\n",
       "      <td>1.000000</td>\n",
       "      <td>1.000000</td>\n",
       "      <td>1.000000</td>\n",
       "      <td>40.000000</td>\n",
       "      <td>32.000000</td>\n",
       "      <td>0.000000</td>\n",
       "      <td>0.000000</td>\n",
       "      <td>0.000000</td>\n",
       "      <td>1715.230000</td>\n",
       "    </tr>\n",
       "    <tr>\n",
       "      <th>25%</th>\n",
       "      <td>2.000000</td>\n",
       "      <td>1.000000</td>\n",
       "      <td>25.500000</td>\n",
       "      <td>1.000000</td>\n",
       "      <td>2.000000</td>\n",
       "      <td>100.000000</td>\n",
       "      <td>80.000000</td>\n",
       "      <td>1.000000</td>\n",
       "      <td>1.000000</td>\n",
       "      <td>0.000000</td>\n",
       "      <td>1956.440000</td>\n",
       "    </tr>\n",
       "    <tr>\n",
       "      <th>50%</th>\n",
       "      <td>2.000000</td>\n",
       "      <td>1.000000</td>\n",
       "      <td>28.000000</td>\n",
       "      <td>2.000000</td>\n",
       "      <td>3.000000</td>\n",
       "      <td>120.000000</td>\n",
       "      <td>96.000000</td>\n",
       "      <td>1.000000</td>\n",
       "      <td>1.000000</td>\n",
       "      <td>1.000000</td>\n",
       "      <td>2612.890000</td>\n",
       "    </tr>\n",
       "    <tr>\n",
       "      <th>75%</th>\n",
       "      <td>2.000000</td>\n",
       "      <td>2.000000</td>\n",
       "      <td>54.000000</td>\n",
       "      <td>4.000000</td>\n",
       "      <td>3.000000</td>\n",
       "      <td>150.000000</td>\n",
       "      <td>120.000000</td>\n",
       "      <td>2.000000</td>\n",
       "      <td>1.000000</td>\n",
       "      <td>1.000000</td>\n",
       "      <td>3320.600000</td>\n",
       "    </tr>\n",
       "    <tr>\n",
       "      <th>max</th>\n",
       "      <td>3.000000</td>\n",
       "      <td>3.000000</td>\n",
       "      <td>85.000000</td>\n",
       "      <td>20.000000</td>\n",
       "      <td>10.000000</td>\n",
       "      <td>310.000000</td>\n",
       "      <td>248.000000</td>\n",
       "      <td>5.000000</td>\n",
       "      <td>1.000000</td>\n",
       "      <td>1.000000</td>\n",
       "      <td>6639.050000</td>\n",
       "    </tr>\n",
       "  </tbody>\n",
       "</table>\n",
       "</div>"
      ],
      "text/plain": [
       "           city İd    county İd  district İd      floor_no    room_count  \\\n",
       "count  2424.000000  2424.000000  2423.000000  10117.000000  10117.000000   \n",
       "mean      1.984323     1.608498    38.527033      3.056341      2.599881   \n",
       "std       0.640948     0.796055    23.836198      2.846541      0.881487   \n",
       "min       1.000000     1.000000     1.000000      1.000000      1.000000   \n",
       "25%       2.000000     1.000000    25.500000      1.000000      2.000000   \n",
       "50%       2.000000     1.000000    28.000000      2.000000      3.000000   \n",
       "75%       2.000000     2.000000    54.000000      4.000000      3.000000   \n",
       "max       3.000000     3.000000    85.000000     20.000000     10.000000   \n",
       "\n",
       "          brut_size      size_net  bathroomcount       heating        balkoy  \\\n",
       "count  10117.000000  10117.000000   10117.000000  10117.000000  10117.000000   \n",
       "mean     131.633785    105.307028       1.465059      0.933577      0.705940   \n",
       "std       44.959646     35.967716       0.603052      0.249032      0.455641   \n",
       "min       40.000000     32.000000       0.000000      0.000000      0.000000   \n",
       "25%      100.000000     80.000000       1.000000      1.000000      0.000000   \n",
       "50%      120.000000     96.000000       1.000000      1.000000      1.000000   \n",
       "75%      150.000000    120.000000       2.000000      1.000000      1.000000   \n",
       "max      310.000000    248.000000       5.000000      1.000000      1.000000   \n",
       "\n",
       "           Price M2  \n",
       "count  10117.000000  \n",
       "mean    2769.725833  \n",
       "std      982.250587  \n",
       "min     1715.230000  \n",
       "25%     1956.440000  \n",
       "50%     2612.890000  \n",
       "75%     3320.600000  \n",
       "max     6639.050000  "
      ]
     },
     "execution_count": 211,
     "metadata": {},
     "output_type": "execute_result"
    }
   ],
   "source": [
    "df.describe()"
   ]
  },
  {
   "cell_type": "code",
   "execution_count": 212,
   "metadata": {
    "scrolled": true
   },
   "outputs": [
    {
     "data": {
      "text/plain": [
       "city İd          float64\n",
       "county İd        float64\n",
       "district İd      float64\n",
       "Status            object\n",
       "floor_no           int64\n",
       "room_count         int64\n",
       "brut_size          int64\n",
       "size_net         float64\n",
       "bathroomcount      int64\n",
       "heating            int64\n",
       "balkoy             int64\n",
       "Price M2         float64\n",
       "dtype: object"
      ]
     },
     "execution_count": 212,
     "metadata": {},
     "output_type": "execute_result"
    }
   ],
   "source": [
    "df.dtypes"
   ]
  },
  {
   "cell_type": "code",
   "execution_count": 213,
   "metadata": {},
   "outputs": [
    {
     "data": {
      "text/plain": [
       "city İd          7693\n",
       "county İd        7693\n",
       "district İd      7694\n",
       "Status              0\n",
       "floor_no            0\n",
       "room_count          0\n",
       "brut_size           0\n",
       "size_net            0\n",
       "bathroomcount       0\n",
       "heating             0\n",
       "balkoy              0\n",
       "Price M2            0\n",
       "dtype: int64"
      ]
     },
     "execution_count": 213,
     "metadata": {},
     "output_type": "execute_result"
    }
   ],
   "source": [
    "df.isnull().sum()"
   ]
  },
  {
   "cell_type": "code",
   "execution_count": 214,
   "metadata": {},
   "outputs": [],
   "source": [
    "missing_feature = df[['city İd','county İd','district İd']]"
   ]
  },
  {
   "cell_type": "code",
   "execution_count": 215,
   "metadata": {},
   "outputs": [
    {
     "data": {
      "text/plain": [
       "city İd        2424\n",
       "county İd      2424\n",
       "district İd    2423\n",
       "dtype: int64"
      ]
     },
     "execution_count": 215,
     "metadata": {},
     "output_type": "execute_result"
    }
   ],
   "source": [
    "missing_feature.notnull().sum()"
   ]
  },
  {
   "cell_type": "code",
   "execution_count": 216,
   "metadata": {
    "scrolled": true
   },
   "outputs": [
    {
     "data": {
      "text/plain": [
       "city İd        7693\n",
       "county İd      7693\n",
       "district İd    7694\n",
       "dtype: int64"
      ]
     },
     "execution_count": 216,
     "metadata": {},
     "output_type": "execute_result"
    }
   ],
   "source": [
    "missing_feature.isnull().sum()"
   ]
  },
  {
   "cell_type": "code",
   "execution_count": 217,
   "metadata": {},
   "outputs": [
    {
     "data": {
      "text/plain": [
       "23080"
      ]
     },
     "execution_count": 217,
     "metadata": {},
     "output_type": "execute_result"
    }
   ],
   "source": [
    "missing_feature.isnull().sum().sum()"
   ]
  },
  {
   "cell_type": "markdown",
   "metadata": {},
   "source": [
    "# Bunlar Katagorik verilerin encoding hali olduğu için Ortalama,Median,mod,min,max,0 atamalarından ziyade ilişki algoritmalarını kullanmak daha mantıklı geldi"
   ]
  },
  {
   "cell_type": "code",
   "execution_count": 218,
   "metadata": {},
   "outputs": [
    {
     "data": {
      "text/html": [
       "<div>\n",
       "<style scoped>\n",
       "    .dataframe tbody tr th:only-of-type {\n",
       "        vertical-align: middle;\n",
       "    }\n",
       "\n",
       "    .dataframe tbody tr th {\n",
       "        vertical-align: top;\n",
       "    }\n",
       "\n",
       "    .dataframe thead th {\n",
       "        text-align: right;\n",
       "    }\n",
       "</style>\n",
       "<table border=\"1\" class=\"dataframe\">\n",
       "  <thead>\n",
       "    <tr style=\"text-align: right;\">\n",
       "      <th></th>\n",
       "      <th>city İd</th>\n",
       "      <th>county İd</th>\n",
       "      <th>district İd</th>\n",
       "    </tr>\n",
       "  </thead>\n",
       "  <tbody>\n",
       "    <tr>\n",
       "      <th>516</th>\n",
       "      <td>1.0</td>\n",
       "      <td>2.0</td>\n",
       "      <td>NaN</td>\n",
       "    </tr>\n",
       "    <tr>\n",
       "      <th>2424</th>\n",
       "      <td>NaN</td>\n",
       "      <td>NaN</td>\n",
       "      <td>NaN</td>\n",
       "    </tr>\n",
       "    <tr>\n",
       "      <th>2425</th>\n",
       "      <td>NaN</td>\n",
       "      <td>NaN</td>\n",
       "      <td>NaN</td>\n",
       "    </tr>\n",
       "    <tr>\n",
       "      <th>2426</th>\n",
       "      <td>NaN</td>\n",
       "      <td>NaN</td>\n",
       "      <td>NaN</td>\n",
       "    </tr>\n",
       "    <tr>\n",
       "      <th>2427</th>\n",
       "      <td>NaN</td>\n",
       "      <td>NaN</td>\n",
       "      <td>NaN</td>\n",
       "    </tr>\n",
       "    <tr>\n",
       "      <th>2428</th>\n",
       "      <td>NaN</td>\n",
       "      <td>NaN</td>\n",
       "      <td>NaN</td>\n",
       "    </tr>\n",
       "    <tr>\n",
       "      <th>2429</th>\n",
       "      <td>NaN</td>\n",
       "      <td>NaN</td>\n",
       "      <td>NaN</td>\n",
       "    </tr>\n",
       "    <tr>\n",
       "      <th>2430</th>\n",
       "      <td>NaN</td>\n",
       "      <td>NaN</td>\n",
       "      <td>NaN</td>\n",
       "    </tr>\n",
       "    <tr>\n",
       "      <th>2431</th>\n",
       "      <td>NaN</td>\n",
       "      <td>NaN</td>\n",
       "      <td>NaN</td>\n",
       "    </tr>\n",
       "    <tr>\n",
       "      <th>2432</th>\n",
       "      <td>NaN</td>\n",
       "      <td>NaN</td>\n",
       "      <td>NaN</td>\n",
       "    </tr>\n",
       "    <tr>\n",
       "      <th>2433</th>\n",
       "      <td>NaN</td>\n",
       "      <td>NaN</td>\n",
       "      <td>NaN</td>\n",
       "    </tr>\n",
       "    <tr>\n",
       "      <th>2434</th>\n",
       "      <td>NaN</td>\n",
       "      <td>NaN</td>\n",
       "      <td>NaN</td>\n",
       "    </tr>\n",
       "    <tr>\n",
       "      <th>2435</th>\n",
       "      <td>NaN</td>\n",
       "      <td>NaN</td>\n",
       "      <td>NaN</td>\n",
       "    </tr>\n",
       "    <tr>\n",
       "      <th>2436</th>\n",
       "      <td>NaN</td>\n",
       "      <td>NaN</td>\n",
       "      <td>NaN</td>\n",
       "    </tr>\n",
       "    <tr>\n",
       "      <th>2437</th>\n",
       "      <td>NaN</td>\n",
       "      <td>NaN</td>\n",
       "      <td>NaN</td>\n",
       "    </tr>\n",
       "    <tr>\n",
       "      <th>2438</th>\n",
       "      <td>NaN</td>\n",
       "      <td>NaN</td>\n",
       "      <td>NaN</td>\n",
       "    </tr>\n",
       "    <tr>\n",
       "      <th>2439</th>\n",
       "      <td>NaN</td>\n",
       "      <td>NaN</td>\n",
       "      <td>NaN</td>\n",
       "    </tr>\n",
       "    <tr>\n",
       "      <th>2440</th>\n",
       "      <td>NaN</td>\n",
       "      <td>NaN</td>\n",
       "      <td>NaN</td>\n",
       "    </tr>\n",
       "    <tr>\n",
       "      <th>2441</th>\n",
       "      <td>NaN</td>\n",
       "      <td>NaN</td>\n",
       "      <td>NaN</td>\n",
       "    </tr>\n",
       "    <tr>\n",
       "      <th>2442</th>\n",
       "      <td>NaN</td>\n",
       "      <td>NaN</td>\n",
       "      <td>NaN</td>\n",
       "    </tr>\n",
       "    <tr>\n",
       "      <th>2443</th>\n",
       "      <td>NaN</td>\n",
       "      <td>NaN</td>\n",
       "      <td>NaN</td>\n",
       "    </tr>\n",
       "    <tr>\n",
       "      <th>2444</th>\n",
       "      <td>NaN</td>\n",
       "      <td>NaN</td>\n",
       "      <td>NaN</td>\n",
       "    </tr>\n",
       "    <tr>\n",
       "      <th>2445</th>\n",
       "      <td>NaN</td>\n",
       "      <td>NaN</td>\n",
       "      <td>NaN</td>\n",
       "    </tr>\n",
       "    <tr>\n",
       "      <th>2446</th>\n",
       "      <td>NaN</td>\n",
       "      <td>NaN</td>\n",
       "      <td>NaN</td>\n",
       "    </tr>\n",
       "    <tr>\n",
       "      <th>2447</th>\n",
       "      <td>NaN</td>\n",
       "      <td>NaN</td>\n",
       "      <td>NaN</td>\n",
       "    </tr>\n",
       "    <tr>\n",
       "      <th>2448</th>\n",
       "      <td>NaN</td>\n",
       "      <td>NaN</td>\n",
       "      <td>NaN</td>\n",
       "    </tr>\n",
       "    <tr>\n",
       "      <th>2449</th>\n",
       "      <td>NaN</td>\n",
       "      <td>NaN</td>\n",
       "      <td>NaN</td>\n",
       "    </tr>\n",
       "    <tr>\n",
       "      <th>2450</th>\n",
       "      <td>NaN</td>\n",
       "      <td>NaN</td>\n",
       "      <td>NaN</td>\n",
       "    </tr>\n",
       "    <tr>\n",
       "      <th>2451</th>\n",
       "      <td>NaN</td>\n",
       "      <td>NaN</td>\n",
       "      <td>NaN</td>\n",
       "    </tr>\n",
       "    <tr>\n",
       "      <th>2452</th>\n",
       "      <td>NaN</td>\n",
       "      <td>NaN</td>\n",
       "      <td>NaN</td>\n",
       "    </tr>\n",
       "    <tr>\n",
       "      <th>...</th>\n",
       "      <td>...</td>\n",
       "      <td>...</td>\n",
       "      <td>...</td>\n",
       "    </tr>\n",
       "    <tr>\n",
       "      <th>10087</th>\n",
       "      <td>NaN</td>\n",
       "      <td>NaN</td>\n",
       "      <td>NaN</td>\n",
       "    </tr>\n",
       "    <tr>\n",
       "      <th>10088</th>\n",
       "      <td>NaN</td>\n",
       "      <td>NaN</td>\n",
       "      <td>NaN</td>\n",
       "    </tr>\n",
       "    <tr>\n",
       "      <th>10089</th>\n",
       "      <td>NaN</td>\n",
       "      <td>NaN</td>\n",
       "      <td>NaN</td>\n",
       "    </tr>\n",
       "    <tr>\n",
       "      <th>10090</th>\n",
       "      <td>NaN</td>\n",
       "      <td>NaN</td>\n",
       "      <td>NaN</td>\n",
       "    </tr>\n",
       "    <tr>\n",
       "      <th>10091</th>\n",
       "      <td>NaN</td>\n",
       "      <td>NaN</td>\n",
       "      <td>NaN</td>\n",
       "    </tr>\n",
       "    <tr>\n",
       "      <th>10092</th>\n",
       "      <td>NaN</td>\n",
       "      <td>NaN</td>\n",
       "      <td>NaN</td>\n",
       "    </tr>\n",
       "    <tr>\n",
       "      <th>10093</th>\n",
       "      <td>NaN</td>\n",
       "      <td>NaN</td>\n",
       "      <td>NaN</td>\n",
       "    </tr>\n",
       "    <tr>\n",
       "      <th>10094</th>\n",
       "      <td>NaN</td>\n",
       "      <td>NaN</td>\n",
       "      <td>NaN</td>\n",
       "    </tr>\n",
       "    <tr>\n",
       "      <th>10095</th>\n",
       "      <td>NaN</td>\n",
       "      <td>NaN</td>\n",
       "      <td>NaN</td>\n",
       "    </tr>\n",
       "    <tr>\n",
       "      <th>10096</th>\n",
       "      <td>NaN</td>\n",
       "      <td>NaN</td>\n",
       "      <td>NaN</td>\n",
       "    </tr>\n",
       "    <tr>\n",
       "      <th>10097</th>\n",
       "      <td>NaN</td>\n",
       "      <td>NaN</td>\n",
       "      <td>NaN</td>\n",
       "    </tr>\n",
       "    <tr>\n",
       "      <th>10098</th>\n",
       "      <td>NaN</td>\n",
       "      <td>NaN</td>\n",
       "      <td>NaN</td>\n",
       "    </tr>\n",
       "    <tr>\n",
       "      <th>10099</th>\n",
       "      <td>NaN</td>\n",
       "      <td>NaN</td>\n",
       "      <td>NaN</td>\n",
       "    </tr>\n",
       "    <tr>\n",
       "      <th>10100</th>\n",
       "      <td>NaN</td>\n",
       "      <td>NaN</td>\n",
       "      <td>NaN</td>\n",
       "    </tr>\n",
       "    <tr>\n",
       "      <th>10101</th>\n",
       "      <td>NaN</td>\n",
       "      <td>NaN</td>\n",
       "      <td>NaN</td>\n",
       "    </tr>\n",
       "    <tr>\n",
       "      <th>10102</th>\n",
       "      <td>NaN</td>\n",
       "      <td>NaN</td>\n",
       "      <td>NaN</td>\n",
       "    </tr>\n",
       "    <tr>\n",
       "      <th>10103</th>\n",
       "      <td>NaN</td>\n",
       "      <td>NaN</td>\n",
       "      <td>NaN</td>\n",
       "    </tr>\n",
       "    <tr>\n",
       "      <th>10104</th>\n",
       "      <td>NaN</td>\n",
       "      <td>NaN</td>\n",
       "      <td>NaN</td>\n",
       "    </tr>\n",
       "    <tr>\n",
       "      <th>10105</th>\n",
       "      <td>NaN</td>\n",
       "      <td>NaN</td>\n",
       "      <td>NaN</td>\n",
       "    </tr>\n",
       "    <tr>\n",
       "      <th>10106</th>\n",
       "      <td>NaN</td>\n",
       "      <td>NaN</td>\n",
       "      <td>NaN</td>\n",
       "    </tr>\n",
       "    <tr>\n",
       "      <th>10107</th>\n",
       "      <td>NaN</td>\n",
       "      <td>NaN</td>\n",
       "      <td>NaN</td>\n",
       "    </tr>\n",
       "    <tr>\n",
       "      <th>10108</th>\n",
       "      <td>NaN</td>\n",
       "      <td>NaN</td>\n",
       "      <td>NaN</td>\n",
       "    </tr>\n",
       "    <tr>\n",
       "      <th>10109</th>\n",
       "      <td>NaN</td>\n",
       "      <td>NaN</td>\n",
       "      <td>NaN</td>\n",
       "    </tr>\n",
       "    <tr>\n",
       "      <th>10110</th>\n",
       "      <td>NaN</td>\n",
       "      <td>NaN</td>\n",
       "      <td>NaN</td>\n",
       "    </tr>\n",
       "    <tr>\n",
       "      <th>10111</th>\n",
       "      <td>NaN</td>\n",
       "      <td>NaN</td>\n",
       "      <td>NaN</td>\n",
       "    </tr>\n",
       "    <tr>\n",
       "      <th>10112</th>\n",
       "      <td>NaN</td>\n",
       "      <td>NaN</td>\n",
       "      <td>NaN</td>\n",
       "    </tr>\n",
       "    <tr>\n",
       "      <th>10113</th>\n",
       "      <td>NaN</td>\n",
       "      <td>NaN</td>\n",
       "      <td>NaN</td>\n",
       "    </tr>\n",
       "    <tr>\n",
       "      <th>10114</th>\n",
       "      <td>NaN</td>\n",
       "      <td>NaN</td>\n",
       "      <td>NaN</td>\n",
       "    </tr>\n",
       "    <tr>\n",
       "      <th>10115</th>\n",
       "      <td>NaN</td>\n",
       "      <td>NaN</td>\n",
       "      <td>NaN</td>\n",
       "    </tr>\n",
       "    <tr>\n",
       "      <th>10116</th>\n",
       "      <td>NaN</td>\n",
       "      <td>NaN</td>\n",
       "      <td>NaN</td>\n",
       "    </tr>\n",
       "  </tbody>\n",
       "</table>\n",
       "<p>7694 rows × 3 columns</p>\n",
       "</div>"
      ],
      "text/plain": [
       "       city İd  county İd  district İd\n",
       "516        1.0        2.0          NaN\n",
       "2424       NaN        NaN          NaN\n",
       "2425       NaN        NaN          NaN\n",
       "2426       NaN        NaN          NaN\n",
       "2427       NaN        NaN          NaN\n",
       "2428       NaN        NaN          NaN\n",
       "2429       NaN        NaN          NaN\n",
       "2430       NaN        NaN          NaN\n",
       "2431       NaN        NaN          NaN\n",
       "2432       NaN        NaN          NaN\n",
       "2433       NaN        NaN          NaN\n",
       "2434       NaN        NaN          NaN\n",
       "2435       NaN        NaN          NaN\n",
       "2436       NaN        NaN          NaN\n",
       "2437       NaN        NaN          NaN\n",
       "2438       NaN        NaN          NaN\n",
       "2439       NaN        NaN          NaN\n",
       "2440       NaN        NaN          NaN\n",
       "2441       NaN        NaN          NaN\n",
       "2442       NaN        NaN          NaN\n",
       "2443       NaN        NaN          NaN\n",
       "2444       NaN        NaN          NaN\n",
       "2445       NaN        NaN          NaN\n",
       "2446       NaN        NaN          NaN\n",
       "2447       NaN        NaN          NaN\n",
       "2448       NaN        NaN          NaN\n",
       "2449       NaN        NaN          NaN\n",
       "2450       NaN        NaN          NaN\n",
       "2451       NaN        NaN          NaN\n",
       "2452       NaN        NaN          NaN\n",
       "...        ...        ...          ...\n",
       "10087      NaN        NaN          NaN\n",
       "10088      NaN        NaN          NaN\n",
       "10089      NaN        NaN          NaN\n",
       "10090      NaN        NaN          NaN\n",
       "10091      NaN        NaN          NaN\n",
       "10092      NaN        NaN          NaN\n",
       "10093      NaN        NaN          NaN\n",
       "10094      NaN        NaN          NaN\n",
       "10095      NaN        NaN          NaN\n",
       "10096      NaN        NaN          NaN\n",
       "10097      NaN        NaN          NaN\n",
       "10098      NaN        NaN          NaN\n",
       "10099      NaN        NaN          NaN\n",
       "10100      NaN        NaN          NaN\n",
       "10101      NaN        NaN          NaN\n",
       "10102      NaN        NaN          NaN\n",
       "10103      NaN        NaN          NaN\n",
       "10104      NaN        NaN          NaN\n",
       "10105      NaN        NaN          NaN\n",
       "10106      NaN        NaN          NaN\n",
       "10107      NaN        NaN          NaN\n",
       "10108      NaN        NaN          NaN\n",
       "10109      NaN        NaN          NaN\n",
       "10110      NaN        NaN          NaN\n",
       "10111      NaN        NaN          NaN\n",
       "10112      NaN        NaN          NaN\n",
       "10113      NaN        NaN          NaN\n",
       "10114      NaN        NaN          NaN\n",
       "10115      NaN        NaN          NaN\n",
       "10116      NaN        NaN          NaN\n",
       "\n",
       "[7694 rows x 3 columns]"
      ]
     },
     "execution_count": 218,
     "metadata": {},
     "output_type": "execute_result"
    }
   ],
   "source": [
    "missing_feature[missing_feature.isnull().any(axis=1)]"
   ]
  },
  {
   "cell_type": "code",
   "execution_count": 219,
   "metadata": {},
   "outputs": [
    {
     "name": "stdout",
     "output_type": "stream",
     "text": [
      "Requirement already satisfied: missingno in c:\\users\\isa\\anaconda3\\lib\\site-packages (0.4.2)\n",
      "Requirement already satisfied: numpy in c:\\users\\isa\\anaconda3\\lib\\site-packages (from missingno) (1.16.2)\n",
      "Requirement already satisfied: matplotlib in c:\\users\\isa\\anaconda3\\lib\\site-packages (from missingno) (3.0.2)\n",
      "Requirement already satisfied: seaborn in c:\\users\\isa\\anaconda3\\lib\\site-packages (from missingno) (0.9.0)\n",
      "Requirement already satisfied: scipy in c:\\users\\isa\\anaconda3\\lib\\site-packages (from missingno) (1.1.0)\n",
      "Requirement already satisfied: cycler>=0.10 in c:\\users\\isa\\anaconda3\\lib\\site-packages (from matplotlib->missingno) (0.10.0)\n",
      "Requirement already satisfied: kiwisolver>=1.0.1 in c:\\users\\isa\\anaconda3\\lib\\site-packages (from matplotlib->missingno) (1.0.1)\n",
      "Requirement already satisfied: pyparsing!=2.0.4,!=2.1.2,!=2.1.6,>=2.0.1 in c:\\users\\isa\\anaconda3\\lib\\site-packages (from matplotlib->missingno) (2.3.0)\n",
      "Requirement already satisfied: python-dateutil>=2.1 in c:\\users\\isa\\anaconda3\\lib\\site-packages (from matplotlib->missingno) (2.7.5)\n",
      "Requirement already satisfied: pandas>=0.15.2 in c:\\users\\isa\\anaconda3\\lib\\site-packages (from seaborn->missingno) (0.23.4)\n",
      "Requirement already satisfied: six in c:\\users\\isa\\anaconda3\\lib\\site-packages (from cycler>=0.10->matplotlib->missingno) (1.12.0)\n",
      "Requirement already satisfied: setuptools in c:\\users\\isa\\anaconda3\\lib\\site-packages (from kiwisolver>=1.0.1->matplotlib->missingno) (41.4.0)\n",
      "Requirement already satisfied: pytz>=2011k in c:\\users\\isa\\anaconda3\\lib\\site-packages (from pandas>=0.15.2->seaborn->missingno) (2018.7)\n"
     ]
    }
   ],
   "source": [
    "!pip install missingno"
   ]
  },
  {
   "cell_type": "code",
   "execution_count": 220,
   "metadata": {},
   "outputs": [],
   "source": [
    "import missingno as msno"
   ]
  },
  {
   "cell_type": "code",
   "execution_count": 221,
   "metadata": {},
   "outputs": [
    {
     "data": {
      "text/html": [
       "<div>\n",
       "<style scoped>\n",
       "    .dataframe tbody tr th:only-of-type {\n",
       "        vertical-align: middle;\n",
       "    }\n",
       "\n",
       "    .dataframe tbody tr th {\n",
       "        vertical-align: top;\n",
       "    }\n",
       "\n",
       "    .dataframe thead th {\n",
       "        text-align: right;\n",
       "    }\n",
       "</style>\n",
       "<table border=\"1\" class=\"dataframe\">\n",
       "  <thead>\n",
       "    <tr style=\"text-align: right;\">\n",
       "      <th></th>\n",
       "      <th>city İd</th>\n",
       "      <th>county İd</th>\n",
       "      <th>district İd</th>\n",
       "      <th>Status</th>\n",
       "      <th>floor_no</th>\n",
       "      <th>room_count</th>\n",
       "      <th>brut_size</th>\n",
       "      <th>size_net</th>\n",
       "      <th>bathroomcount</th>\n",
       "      <th>heating</th>\n",
       "      <th>balkoy</th>\n",
       "      <th>Price M2</th>\n",
       "    </tr>\n",
       "  </thead>\n",
       "  <tbody>\n",
       "    <tr>\n",
       "      <th>0</th>\n",
       "      <td>1.0</td>\n",
       "      <td>2.0</td>\n",
       "      <td>3.0</td>\n",
       "      <td>Sales</td>\n",
       "      <td>3</td>\n",
       "      <td>3</td>\n",
       "      <td>140</td>\n",
       "      <td>112.0</td>\n",
       "      <td>1</td>\n",
       "      <td>1</td>\n",
       "      <td>1</td>\n",
       "      <td>2115.09</td>\n",
       "    </tr>\n",
       "    <tr>\n",
       "      <th>1</th>\n",
       "      <td>1.0</td>\n",
       "      <td>2.0</td>\n",
       "      <td>3.0</td>\n",
       "      <td>Sales</td>\n",
       "      <td>1</td>\n",
       "      <td>3</td>\n",
       "      <td>125</td>\n",
       "      <td>100.0</td>\n",
       "      <td>1</td>\n",
       "      <td>1</td>\n",
       "      <td>1</td>\n",
       "      <td>2115.09</td>\n",
       "    </tr>\n",
       "    <tr>\n",
       "      <th>2</th>\n",
       "      <td>1.0</td>\n",
       "      <td>2.0</td>\n",
       "      <td>3.0</td>\n",
       "      <td>Sales</td>\n",
       "      <td>4</td>\n",
       "      <td>3</td>\n",
       "      <td>135</td>\n",
       "      <td>108.0</td>\n",
       "      <td>2</td>\n",
       "      <td>1</td>\n",
       "      <td>1</td>\n",
       "      <td>2175.10</td>\n",
       "    </tr>\n",
       "    <tr>\n",
       "      <th>3</th>\n",
       "      <td>1.0</td>\n",
       "      <td>2.0</td>\n",
       "      <td>3.0</td>\n",
       "      <td>Sales</td>\n",
       "      <td>3</td>\n",
       "      <td>4</td>\n",
       "      <td>165</td>\n",
       "      <td>132.0</td>\n",
       "      <td>2</td>\n",
       "      <td>1</td>\n",
       "      <td>1</td>\n",
       "      <td>2115.09</td>\n",
       "    </tr>\n",
       "    <tr>\n",
       "      <th>4</th>\n",
       "      <td>1.0</td>\n",
       "      <td>2.0</td>\n",
       "      <td>5.0</td>\n",
       "      <td>Sales</td>\n",
       "      <td>1</td>\n",
       "      <td>4</td>\n",
       "      <td>280</td>\n",
       "      <td>224.0</td>\n",
       "      <td>2</td>\n",
       "      <td>1</td>\n",
       "      <td>1</td>\n",
       "      <td>3745.97</td>\n",
       "    </tr>\n",
       "  </tbody>\n",
       "</table>\n",
       "</div>"
      ],
      "text/plain": [
       "   city İd  county İd  district İd Status  floor_no  room_count  brut_size  \\\n",
       "0      1.0        2.0          3.0  Sales         3           3        140   \n",
       "1      1.0        2.0          3.0  Sales         1           3        125   \n",
       "2      1.0        2.0          3.0  Sales         4           3        135   \n",
       "3      1.0        2.0          3.0  Sales         3           4        165   \n",
       "4      1.0        2.0          5.0  Sales         1           4        280   \n",
       "\n",
       "   size_net  bathroomcount  heating  balkoy  Price M2  \n",
       "0     112.0              1        1       1   2115.09  \n",
       "1     100.0              1        1       1   2115.09  \n",
       "2     108.0              2        1       1   2175.10  \n",
       "3     132.0              2        1       1   2115.09  \n",
       "4     224.0              2        1       1   3745.97  "
      ]
     },
     "execution_count": 221,
     "metadata": {},
     "output_type": "execute_result"
    }
   ],
   "source": [
    "df.head()"
   ]
  },
  {
   "cell_type": "code",
   "execution_count": 222,
   "metadata": {},
   "outputs": [
    {
     "data": {
      "text/plain": [
       "<matplotlib.axes._subplots.AxesSubplot at 0x1deadd47b38>"
      ]
     },
     "execution_count": 222,
     "metadata": {},
     "output_type": "execute_result"
    },
    {
     "data": {
      "image/png": "[encoded data removed]",
      "text/plain": [
       "<Figure size 1728x720 with 3 Axes>"
      ]
     },
     "metadata": {
      "needs_background": "light"
     },
     "output_type": "display_data"
    }
   ],
   "source": [
    "msno.bar(df)"
   ]
  },
  {
   "cell_type": "code",
   "execution_count": 223,
   "metadata": {},
   "outputs": [
    {
     "data": {
      "text/plain": [
       "<matplotlib.axes._subplots.AxesSubplot at 0x1deaa4a3e80>"
      ]
     },
     "execution_count": 223,
     "metadata": {},
     "output_type": "execute_result"
    },
    {
     "data": {
      "image/png": "[encoded data removed]",
      "text/plain": [
       "<Figure size 432x288 with 1 Axes>"
      ]
     },
     "metadata": {
      "needs_background": "light"
     },
     "output_type": "display_data"
    }
   ],
   "source": [
    "import seaborn as sns\n",
    "sns.heatmap(df.isnull(), cbar = False)"
   ]
  },
  {
   "cell_type": "code",
   "execution_count": 224,
   "metadata": {},
   "outputs": [
    {
     "data": {
      "text/plain": [
       "<matplotlib.axes._subplots.AxesSubplot at 0x1deaa477080>"
      ]
     },
     "execution_count": 224,
     "metadata": {},
     "output_type": "execute_result"
    },
    {
     "data": {
      "image/png": "[encoded data removed]",
      "text/plain": [
       "<Figure size 1800x720 with 2 Axes>"
      ]
     },
     "metadata": {
      "needs_background": "light"
     },
     "output_type": "display_data"
    }
   ],
   "source": [
    "msno.matrix(df)"
   ]
  },
  {
   "cell_type": "code",
   "execution_count": 225,
   "metadata": {},
   "outputs": [
    {
     "data": {
      "text/plain": [
       "<matplotlib.axes._subplots.AxesSubplot at 0x1dea9f332e8>"
      ]
     },
     "execution_count": 225,
     "metadata": {},
     "output_type": "execute_result"
    },
    {
     "data": {
      "image/png": "[encoded data removed]",
      "text/plain": [
       "<Figure size 1440x864 with 2 Axes>"
      ]
     },
     "metadata": {
      "needs_background": "light"
     },
     "output_type": "display_data"
    }
   ],
   "source": [
    "msno.heatmap(df) # Eksiklik correlation matrix"
   ]
  },
  {
   "cell_type": "code",
   "execution_count": 226,
   "metadata": {},
   "outputs": [
    {
     "name": "stdout",
     "output_type": "stream",
     "text": [
      "Requirement already satisfied: fancyimpute in c:\\users\\isa\\anaconda3\\lib\\site-packages (0.5.4)\n",
      "Requirement already satisfied: numpy>=1.10 in c:\\users\\isa\\anaconda3\\lib\\site-packages (from fancyimpute) (1.16.2)\n",
      "Requirement already satisfied: scikit-learn>=0.21.2 in c:\\users\\isa\\anaconda3\\lib\\site-packages (from fancyimpute) (0.21.3)\n",
      "Requirement already satisfied: scipy in c:\\users\\isa\\anaconda3\\lib\\site-packages (from fancyimpute) (1.1.0)\n",
      "Requirement already satisfied: cvxpy>=1.0.6 in c:\\users\\isa\\anaconda3\\lib\\site-packages (from fancyimpute) (1.0.25)\n",
      "Requirement already satisfied: tensorflow in c:\\users\\isa\\anaconda3\\lib\\site-packages (from fancyimpute) (2.0.0a0)\n",
      "Requirement already satisfied: keras>=2.0.0 in c:\\users\\isa\\anaconda3\\lib\\site-packages (from fancyimpute) (2.2.4)\n",
      "Requirement already satisfied: knnimpute in c:\\users\\isa\\anaconda3\\lib\\site-packages (from fancyimpute) (0.1.0)\n",
      "Requirement already satisfied: joblib>=0.11 in c:\\users\\isa\\anaconda3\\lib\\site-packages (from scikit-learn>=0.21.2->fancyimpute) (0.14.0)\n",
      "Requirement already satisfied: ecos>=2 in c:\\users\\isa\\anaconda3\\lib\\site-packages (from cvxpy>=1.0.6->fancyimpute) (2.0.7.post1)\n",
      "Requirement already satisfied: osqp>=0.4.1 in c:\\users\\isa\\anaconda3\\lib\\site-packages (from cvxpy>=1.0.6->fancyimpute) (0.6.1)\n",
      "Requirement already satisfied: multiprocess in c:\\users\\isa\\anaconda3\\lib\\site-packages (from cvxpy>=1.0.6->fancyimpute) (0.70.9)\n",
      "Requirement already satisfied: six in c:\\users\\isa\\anaconda3\\lib\\site-packages (from cvxpy>=1.0.6->fancyimpute) (1.12.0)\n",
      "Requirement already satisfied: scs>=1.1.3 in c:\\users\\isa\\anaconda3\\lib\\site-packages (from cvxpy>=1.0.6->fancyimpute) (2.1.1.post2)\n",
      "Requirement already satisfied: gast>=0.2.0 in c:\\users\\isa\\anaconda3\\lib\\site-packages (from tensorflow->fancyimpute) (0.2.2)\n",
      "Requirement already satisfied: protobuf>=3.6.1 in c:\\users\\isa\\anaconda3\\lib\\site-packages (from tensorflow->fancyimpute) (3.7.1)\n",
      "Requirement already satisfied: termcolor>=1.1.0 in c:\\users\\isa\\anaconda3\\lib\\site-packages (from tensorflow->fancyimpute) (1.1.0)\n",
      "Requirement already satisfied: keras-applications>=1.0.6 in c:\\users\\isa\\anaconda3\\lib\\site-packages (from tensorflow->fancyimpute) (1.0.8)\n",
      "Requirement already satisfied: keras-preprocessing>=1.0.5 in c:\\users\\isa\\anaconda3\\lib\\site-packages (from tensorflow->fancyimpute) (1.0.9)\n",
      "Requirement already satisfied: absl-py>=0.7.0 in c:\\users\\isa\\anaconda3\\lib\\site-packages (from tensorflow->fancyimpute) (0.7.1)\n",
      "Requirement already satisfied: wheel>=0.26 in c:\\users\\isa\\anaconda3\\lib\\site-packages (from tensorflow->fancyimpute) (0.32.3)\n",
      "Requirement already satisfied: tf-estimator-nightly<1.14.0.dev2019030116,>=1.14.0.dev2019030115 in c:\\users\\isa\\anaconda3\\lib\\site-packages (from tensorflow->fancyimpute) (1.14.0.dev2019030115)\n",
      "Collecting tb-nightly<1.14.0a20190302,>=1.14.0a20190301 (from tensorflow->fancyimpute)\n",
      "  Using cached https://files.pythonhosted.org/packages/a9/51/aa1d756644bf4624c03844115e4ac4058eff77acd786b26315f051a4b195/tb_nightly-1.14.0a20190301-py3-none-any.whl\n",
      "Requirement already satisfied: grpcio>=1.8.6 in c:\\users\\isa\\anaconda3\\lib\\site-packages (from tensorflow->fancyimpute) (1.19.0)\n",
      "Requirement already satisfied: astor>=0.6.0 in c:\\users\\isa\\anaconda3\\lib\\site-packages (from tensorflow->fancyimpute) (0.7.1)\n",
      "Requirement already satisfied: google-pasta>=0.1.2 in c:\\users\\isa\\anaconda3\\lib\\site-packages (from tensorflow->fancyimpute) (0.1.7)\n",
      "Requirement already satisfied: pyyaml in c:\\users\\isa\\anaconda3\\lib\\site-packages (from keras>=2.0.0->fancyimpute) (3.13)\n",
      "Requirement already satisfied: h5py in c:\\users\\isa\\anaconda3\\lib\\site-packages (from keras>=2.0.0->fancyimpute) (2.8.0)\n",
      "Requirement already satisfied: future in c:\\users\\isa\\anaconda3\\lib\\site-packages (from osqp>=0.4.1->cvxpy>=1.0.6->fancyimpute) (0.17.1)\n",
      "Requirement already satisfied: dill>=0.3.1 in c:\\users\\isa\\anaconda3\\lib\\site-packages (from multiprocess->cvxpy>=1.0.6->fancyimpute) (0.3.1.1)\n",
      "Requirement already satisfied: setuptools in c:\\users\\isa\\anaconda3\\lib\\site-packages (from protobuf>=3.6.1->tensorflow->fancyimpute) (41.4.0)\n",
      "Requirement already satisfied: werkzeug>=0.11.15 in c:\\users\\isa\\anaconda3\\lib\\site-packages (from tb-nightly<1.14.0a20190302,>=1.14.0a20190301->tensorflow->fancyimpute) (0.14.1)\n",
      "Requirement already satisfied: markdown>=2.6.8 in c:\\users\\isa\\anaconda3\\lib\\site-packages (from tb-nightly<1.14.0a20190302,>=1.14.0a20190301->tensorflow->fancyimpute) (3.1)\n",
      "Installing collected packages: tb-nightly\n",
      "  Found existing installation: tb-nightly 2.1.0a20191018\n",
      "    Uninstalling tb-nightly-2.1.0a20191018:\n",
      "      Successfully uninstalled tb-nightly-2.1.0a20191018\n",
      "Successfully installed tb-nightly-1.14.0a20190301\n"
     ]
    }
   ],
   "source": [
    "!pip install fancyimpute"
   ]
  },
  {
   "cell_type": "markdown",
   "metadata": {},
   "source": [
    "# Feature Selection "
   ]
  },
  {
   "cell_type": "code",
   "execution_count": 227,
   "metadata": {},
   "outputs": [],
   "source": [
    "df = df.drop(columns='Status') #önemsiz olan tek kısım Sales kısmı"
   ]
  },
  {
   "cell_type": "code",
   "execution_count": 228,
   "metadata": {},
   "outputs": [],
   "source": [
    "from fancyimpute import KNN\n"
   ]
  },
  {
   "cell_type": "code",
   "execution_count": 229,
   "metadata": {},
   "outputs": [
    {
     "data": {
      "text/plain": [
       "['city İd',\n",
       " 'county İd',\n",
       " 'district İd',\n",
       " 'floor_no',\n",
       " 'room_count',\n",
       " 'brut_size',\n",
       " 'size_net',\n",
       " 'bathroomcount',\n",
       " 'heating',\n",
       " 'balkoy',\n",
       " 'Price M2']"
      ]
     },
     "execution_count": 229,
     "metadata": {},
     "output_type": "execute_result"
    }
   ],
   "source": [
    "var_names = list(df)\n",
    "var_names"
   ]
  },
  {
   "cell_type": "code",
   "execution_count": 230,
   "metadata": {},
   "outputs": [
    {
     "data": {
      "text/plain": [
       "['city İd', 'county İd', 'district İd']"
      ]
     },
     "execution_count": 230,
     "metadata": {},
     "output_type": "execute_result"
    }
   ],
   "source": [
    "var_names[:3]"
   ]
  },
  {
   "cell_type": "markdown",
   "metadata": {},
   "source": [
    "# KNN"
   ]
  },
  {
   "cell_type": "code",
   "execution_count": 231,
   "metadata": {},
   "outputs": [
    {
     "name": "stdout",
     "output_type": "stream",
     "text": [
      "Imputing row 1/10117 with 0 missing, elapsed time: 14.134\n",
      "Imputing row 101/10117 with 0 missing, elapsed time: 14.134\n",
      "Imputing row 201/10117 with 0 missing, elapsed time: 14.134\n",
      "Imputing row 301/10117 with 0 missing, elapsed time: 14.134\n",
      "Imputing row 401/10117 with 0 missing, elapsed time: 14.135\n",
      "Imputing row 501/10117 with 0 missing, elapsed time: 14.135\n",
      "Imputing row 601/10117 with 0 missing, elapsed time: 14.135\n",
      "Imputing row 701/10117 with 0 missing, elapsed time: 14.136\n",
      "Imputing row 801/10117 with 0 missing, elapsed time: 14.136\n",
      "Imputing row 901/10117 with 0 missing, elapsed time: 14.136\n",
      "Imputing row 1001/10117 with 0 missing, elapsed time: 14.136\n",
      "Imputing row 1101/10117 with 0 missing, elapsed time: 14.136\n",
      "Imputing row 1201/10117 with 0 missing, elapsed time: 14.137\n",
      "Imputing row 1301/10117 with 0 missing, elapsed time: 14.137\n",
      "Imputing row 1401/10117 with 0 missing, elapsed time: 14.137\n",
      "Imputing row 1501/10117 with 0 missing, elapsed time: 14.137\n",
      "Imputing row 1601/10117 with 0 missing, elapsed time: 14.138\n",
      "Imputing row 1701/10117 with 0 missing, elapsed time: 14.138\n",
      "Imputing row 1801/10117 with 0 missing, elapsed time: 14.138\n",
      "Imputing row 1901/10117 with 0 missing, elapsed time: 14.138\n",
      "Imputing row 2001/10117 with 0 missing, elapsed time: 14.138\n",
      "Imputing row 2101/10117 with 0 missing, elapsed time: 14.139\n",
      "Imputing row 2201/10117 with 0 missing, elapsed time: 14.139\n",
      "Imputing row 2301/10117 with 0 missing, elapsed time: 14.139\n",
      "Imputing row 2401/10117 with 0 missing, elapsed time: 14.139\n",
      "Imputing row 2501/10117 with 3 missing, elapsed time: 14.157\n",
      "Imputing row 2601/10117 with 3 missing, elapsed time: 14.174\n",
      "Imputing row 2701/10117 with 3 missing, elapsed time: 14.192\n",
      "Imputing row 2801/10117 with 3 missing, elapsed time: 14.209\n",
      "Imputing row 2901/10117 with 3 missing, elapsed time: 14.226\n",
      "Imputing row 3001/10117 with 3 missing, elapsed time: 14.243\n",
      "Imputing row 3101/10117 with 3 missing, elapsed time: 14.259\n",
      "Imputing row 3201/10117 with 3 missing, elapsed time: 14.276\n",
      "Imputing row 3301/10117 with 3 missing, elapsed time: 14.291\n",
      "Imputing row 3401/10117 with 3 missing, elapsed time: 14.307\n",
      "Imputing row 3501/10117 with 3 missing, elapsed time: 14.324\n",
      "Imputing row 3601/10117 with 3 missing, elapsed time: 14.340\n",
      "Imputing row 3701/10117 with 3 missing, elapsed time: 14.358\n",
      "Imputing row 3801/10117 with 3 missing, elapsed time: 14.374\n",
      "Imputing row 3901/10117 with 3 missing, elapsed time: 14.390\n",
      "Imputing row 4001/10117 with 3 missing, elapsed time: 14.405\n",
      "Imputing row 4101/10117 with 3 missing, elapsed time: 14.421\n",
      "Imputing row 4201/10117 with 3 missing, elapsed time: 14.437\n",
      "Imputing row 4301/10117 with 3 missing, elapsed time: 14.453\n",
      "Imputing row 4401/10117 with 3 missing, elapsed time: 14.469\n",
      "Imputing row 4501/10117 with 3 missing, elapsed time: 14.485\n",
      "Imputing row 4601/10117 with 3 missing, elapsed time: 14.502\n",
      "Imputing row 4701/10117 with 3 missing, elapsed time: 14.519\n",
      "Imputing row 4801/10117 with 3 missing, elapsed time: 14.535\n",
      "Imputing row 4901/10117 with 3 missing, elapsed time: 14.554\n",
      "Imputing row 5001/10117 with 3 missing, elapsed time: 14.571\n",
      "Imputing row 5101/10117 with 3 missing, elapsed time: 14.588\n",
      "Imputing row 5201/10117 with 3 missing, elapsed time: 14.605\n",
      "Imputing row 5301/10117 with 3 missing, elapsed time: 14.622\n",
      "Imputing row 5401/10117 with 3 missing, elapsed time: 14.639\n",
      "Imputing row 5501/10117 with 3 missing, elapsed time: 14.655\n",
      "Imputing row 5601/10117 with 3 missing, elapsed time: 14.673\n",
      "Imputing row 5701/10117 with 3 missing, elapsed time: 14.690\n",
      "Imputing row 5801/10117 with 3 missing, elapsed time: 14.706\n",
      "Imputing row 5901/10117 with 3 missing, elapsed time: 14.722\n",
      "Imputing row 6001/10117 with 3 missing, elapsed time: 14.739\n",
      "Imputing row 6101/10117 with 3 missing, elapsed time: 14.755\n",
      "Imputing row 6201/10117 with 3 missing, elapsed time: 14.774\n",
      "Imputing row 6301/10117 with 3 missing, elapsed time: 14.792\n",
      "Imputing row 6401/10117 with 3 missing, elapsed time: 14.810\n",
      "Imputing row 6501/10117 with 3 missing, elapsed time: 14.828\n",
      "Imputing row 6601/10117 with 3 missing, elapsed time: 14.847\n",
      "Imputing row 6701/10117 with 3 missing, elapsed time: 14.866\n",
      "Imputing row 6801/10117 with 3 missing, elapsed time: 14.883\n",
      "Imputing row 6901/10117 with 3 missing, elapsed time: 14.904\n",
      "Imputing row 7001/10117 with 3 missing, elapsed time: 14.922\n",
      "Imputing row 7101/10117 with 3 missing, elapsed time: 14.940\n",
      "Imputing row 7201/10117 with 3 missing, elapsed time: 14.958\n",
      "Imputing row 7301/10117 with 3 missing, elapsed time: 14.978\n",
      "Imputing row 7401/10117 with 3 missing, elapsed time: 14.996\n",
      "Imputing row 7501/10117 with 3 missing, elapsed time: 15.014\n",
      "Imputing row 7601/10117 with 3 missing, elapsed time: 15.031\n",
      "Imputing row 7701/10117 with 3 missing, elapsed time: 15.049\n",
      "Imputing row 7801/10117 with 3 missing, elapsed time: 15.065\n",
      "Imputing row 7901/10117 with 3 missing, elapsed time: 15.081\n",
      "Imputing row 8001/10117 with 3 missing, elapsed time: 15.097\n",
      "Imputing row 8101/10117 with 3 missing, elapsed time: 15.113\n",
      "Imputing row 8201/10117 with 3 missing, elapsed time: 15.129\n",
      "Imputing row 8301/10117 with 3 missing, elapsed time: 15.145\n",
      "Imputing row 8401/10117 with 3 missing, elapsed time: 15.161\n",
      "Imputing row 8501/10117 with 3 missing, elapsed time: 15.177\n",
      "Imputing row 8601/10117 with 3 missing, elapsed time: 15.195\n",
      "Imputing row 8701/10117 with 3 missing, elapsed time: 15.213\n",
      "Imputing row 8801/10117 with 3 missing, elapsed time: 15.228\n",
      "Imputing row 8901/10117 with 3 missing, elapsed time: 15.244\n",
      "Imputing row 9001/10117 with 3 missing, elapsed time: 15.260\n",
      "Imputing row 9101/10117 with 3 missing, elapsed time: 15.276\n",
      "Imputing row 9201/10117 with 3 missing, elapsed time: 15.291\n",
      "Imputing row 9301/10117 with 3 missing, elapsed time: 15.307\n",
      "Imputing row 9401/10117 with 3 missing, elapsed time: 15.324\n",
      "Imputing row 9501/10117 with 3 missing, elapsed time: 15.340\n",
      "Imputing row 9601/10117 with 3 missing, elapsed time: 15.356\n",
      "Imputing row 9701/10117 with 3 missing, elapsed time: 15.371\n",
      "Imputing row 9801/10117 with 3 missing, elapsed time: 15.387\n",
      "Imputing row 9901/10117 with 3 missing, elapsed time: 15.407\n",
      "Imputing row 10001/10117 with 3 missing, elapsed time: 15.424\n",
      "Imputing row 10101/10117 with 3 missing, elapsed time: 15.440\n"
     ]
    }
   ],
   "source": [
    "knn_imp = KNN(k=5).fit_transform(df)"
   ]
  },
  {
   "cell_type": "code",
   "execution_count": 232,
   "metadata": {},
   "outputs": [
    {
     "data": {
      "text/plain": [
       "array([[1.00000e+00, 2.00000e+00, 3.00000e+00, 3.00000e+00, 3.00000e+00,\n",
       "        1.40000e+02, 1.12000e+02, 1.00000e+00, 1.00000e+00, 1.00000e+00,\n",
       "        2.11509e+03]])"
      ]
     },
     "execution_count": 232,
     "metadata": {},
     "output_type": "execute_result"
    }
   ],
   "source": [
    "knn_imp[0:1]"
   ]
  },
  {
   "cell_type": "code",
   "execution_count": 233,
   "metadata": {},
   "outputs": [
    {
     "data": {
      "text/html": [
       "<div>\n",
       "<style scoped>\n",
       "    .dataframe tbody tr th:only-of-type {\n",
       "        vertical-align: middle;\n",
       "    }\n",
       "\n",
       "    .dataframe tbody tr th {\n",
       "        vertical-align: top;\n",
       "    }\n",
       "\n",
       "    .dataframe thead th {\n",
       "        text-align: right;\n",
       "    }\n",
       "</style>\n",
       "<table border=\"1\" class=\"dataframe\">\n",
       "  <thead>\n",
       "    <tr style=\"text-align: right;\">\n",
       "      <th></th>\n",
       "      <th>city İd</th>\n",
       "      <th>county İd</th>\n",
       "      <th>district İd</th>\n",
       "      <th>floor_no</th>\n",
       "      <th>room_count</th>\n",
       "      <th>brut_size</th>\n",
       "      <th>size_net</th>\n",
       "      <th>bathroomcount</th>\n",
       "      <th>heating</th>\n",
       "      <th>balkoy</th>\n",
       "      <th>Price M2</th>\n",
       "    </tr>\n",
       "  </thead>\n",
       "  <tbody>\n",
       "    <tr>\n",
       "      <th>10112</th>\n",
       "      <td>2.497822</td>\n",
       "      <td>2.748911</td>\n",
       "      <td>25.312086</td>\n",
       "      <td>5.0</td>\n",
       "      <td>4.0</td>\n",
       "      <td>270.0</td>\n",
       "      <td>216.0</td>\n",
       "      <td>4.0</td>\n",
       "      <td>1.0</td>\n",
       "      <td>1.0</td>\n",
       "      <td>4757.71</td>\n",
       "    </tr>\n",
       "    <tr>\n",
       "      <th>10113</th>\n",
       "      <td>3.000000</td>\n",
       "      <td>3.000000</td>\n",
       "      <td>22.999999</td>\n",
       "      <td>5.0</td>\n",
       "      <td>5.0</td>\n",
       "      <td>275.0</td>\n",
       "      <td>220.0</td>\n",
       "      <td>2.0</td>\n",
       "      <td>1.0</td>\n",
       "      <td>1.0</td>\n",
       "      <td>5326.40</td>\n",
       "    </tr>\n",
       "    <tr>\n",
       "      <th>10114</th>\n",
       "      <td>3.000000</td>\n",
       "      <td>3.000000</td>\n",
       "      <td>23.000001</td>\n",
       "      <td>5.0</td>\n",
       "      <td>4.0</td>\n",
       "      <td>300.0</td>\n",
       "      <td>240.0</td>\n",
       "      <td>2.0</td>\n",
       "      <td>1.0</td>\n",
       "      <td>1.0</td>\n",
       "      <td>5326.40</td>\n",
       "    </tr>\n",
       "    <tr>\n",
       "      <th>10115</th>\n",
       "      <td>3.000000</td>\n",
       "      <td>3.000000</td>\n",
       "      <td>62.999998</td>\n",
       "      <td>4.0</td>\n",
       "      <td>3.0</td>\n",
       "      <td>268.0</td>\n",
       "      <td>214.4</td>\n",
       "      <td>2.0</td>\n",
       "      <td>1.0</td>\n",
       "      <td>1.0</td>\n",
       "      <td>6639.05</td>\n",
       "    </tr>\n",
       "    <tr>\n",
       "      <th>10116</th>\n",
       "      <td>3.000000</td>\n",
       "      <td>3.000000</td>\n",
       "      <td>63.000003</td>\n",
       "      <td>8.0</td>\n",
       "      <td>3.0</td>\n",
       "      <td>290.0</td>\n",
       "      <td>232.0</td>\n",
       "      <td>2.0</td>\n",
       "      <td>1.0</td>\n",
       "      <td>1.0</td>\n",
       "      <td>6639.05</td>\n",
       "    </tr>\n",
       "  </tbody>\n",
       "</table>\n",
       "</div>"
      ],
      "text/plain": [
       "        city İd  county İd  district İd  floor_no  room_count  brut_size  \\\n",
       "10112  2.497822   2.748911    25.312086       5.0         4.0      270.0   \n",
       "10113  3.000000   3.000000    22.999999       5.0         5.0      275.0   \n",
       "10114  3.000000   3.000000    23.000001       5.0         4.0      300.0   \n",
       "10115  3.000000   3.000000    62.999998       4.0         3.0      268.0   \n",
       "10116  3.000000   3.000000    63.000003       8.0         3.0      290.0   \n",
       "\n",
       "       size_net  bathroomcount  heating  balkoy  Price M2  \n",
       "10112     216.0            4.0      1.0     1.0   4757.71  \n",
       "10113     220.0            2.0      1.0     1.0   5326.40  \n",
       "10114     240.0            2.0      1.0     1.0   5326.40  \n",
       "10115     214.4            2.0      1.0     1.0   6639.05  \n",
       "10116     232.0            2.0      1.0     1.0   6639.05  "
      ]
     },
     "execution_count": 233,
     "metadata": {},
     "output_type": "execute_result"
    }
   ],
   "source": [
    "dff = pd.DataFrame(knn_imp)\n",
    "dff.columns = var_names\n",
    "dff.tail()"
   ]
  },
  {
   "cell_type": "code",
   "execution_count": 234,
   "metadata": {},
   "outputs": [
    {
     "data": {
      "text/html": [
       "<div>\n",
       "<style scoped>\n",
       "    .dataframe tbody tr th:only-of-type {\n",
       "        vertical-align: middle;\n",
       "    }\n",
       "\n",
       "    .dataframe tbody tr th {\n",
       "        vertical-align: top;\n",
       "    }\n",
       "\n",
       "    .dataframe thead th {\n",
       "        text-align: right;\n",
       "    }\n",
       "</style>\n",
       "<table border=\"1\" class=\"dataframe\">\n",
       "  <thead>\n",
       "    <tr style=\"text-align: right;\">\n",
       "      <th></th>\n",
       "      <th>city İd</th>\n",
       "      <th>county İd</th>\n",
       "      <th>district İd</th>\n",
       "      <th>floor_no</th>\n",
       "      <th>room_count</th>\n",
       "      <th>brut_size</th>\n",
       "      <th>size_net</th>\n",
       "      <th>bathroomcount</th>\n",
       "      <th>heating</th>\n",
       "      <th>balkoy</th>\n",
       "      <th>Price M2</th>\n",
       "    </tr>\n",
       "  </thead>\n",
       "  <tbody>\n",
       "    <tr>\n",
       "      <th>10112</th>\n",
       "      <td>2.0</td>\n",
       "      <td>3.0</td>\n",
       "      <td>25.0</td>\n",
       "      <td>5.0</td>\n",
       "      <td>4.0</td>\n",
       "      <td>270.0</td>\n",
       "      <td>216.0</td>\n",
       "      <td>4.0</td>\n",
       "      <td>1.0</td>\n",
       "      <td>1.0</td>\n",
       "      <td>4757.71</td>\n",
       "    </tr>\n",
       "    <tr>\n",
       "      <th>10113</th>\n",
       "      <td>3.0</td>\n",
       "      <td>3.0</td>\n",
       "      <td>23.0</td>\n",
       "      <td>5.0</td>\n",
       "      <td>5.0</td>\n",
       "      <td>275.0</td>\n",
       "      <td>220.0</td>\n",
       "      <td>2.0</td>\n",
       "      <td>1.0</td>\n",
       "      <td>1.0</td>\n",
       "      <td>5326.40</td>\n",
       "    </tr>\n",
       "    <tr>\n",
       "      <th>10114</th>\n",
       "      <td>3.0</td>\n",
       "      <td>3.0</td>\n",
       "      <td>23.0</td>\n",
       "      <td>5.0</td>\n",
       "      <td>4.0</td>\n",
       "      <td>300.0</td>\n",
       "      <td>240.0</td>\n",
       "      <td>2.0</td>\n",
       "      <td>1.0</td>\n",
       "      <td>1.0</td>\n",
       "      <td>5326.40</td>\n",
       "    </tr>\n",
       "    <tr>\n",
       "      <th>10115</th>\n",
       "      <td>3.0</td>\n",
       "      <td>3.0</td>\n",
       "      <td>63.0</td>\n",
       "      <td>4.0</td>\n",
       "      <td>3.0</td>\n",
       "      <td>268.0</td>\n",
       "      <td>214.4</td>\n",
       "      <td>2.0</td>\n",
       "      <td>1.0</td>\n",
       "      <td>1.0</td>\n",
       "      <td>6639.05</td>\n",
       "    </tr>\n",
       "    <tr>\n",
       "      <th>10116</th>\n",
       "      <td>3.0</td>\n",
       "      <td>3.0</td>\n",
       "      <td>63.0</td>\n",
       "      <td>8.0</td>\n",
       "      <td>3.0</td>\n",
       "      <td>290.0</td>\n",
       "      <td>232.0</td>\n",
       "      <td>2.0</td>\n",
       "      <td>1.0</td>\n",
       "      <td>1.0</td>\n",
       "      <td>6639.05</td>\n",
       "    </tr>\n",
       "  </tbody>\n",
       "</table>\n",
       "</div>"
      ],
      "text/plain": [
       "       city İd  county İd  district İd  floor_no  room_count  brut_size  \\\n",
       "10112      2.0        3.0         25.0       5.0         4.0      270.0   \n",
       "10113      3.0        3.0         23.0       5.0         5.0      275.0   \n",
       "10114      3.0        3.0         23.0       5.0         4.0      300.0   \n",
       "10115      3.0        3.0         63.0       4.0         3.0      268.0   \n",
       "10116      3.0        3.0         63.0       8.0         3.0      290.0   \n",
       "\n",
       "       size_net  bathroomcount  heating  balkoy  Price M2  \n",
       "10112     216.0            4.0      1.0     1.0   4757.71  \n",
       "10113     220.0            2.0      1.0     1.0   5326.40  \n",
       "10114     240.0            2.0      1.0     1.0   5326.40  \n",
       "10115     214.4            2.0      1.0     1.0   6639.05  \n",
       "10116     232.0            2.0      1.0     1.0   6639.05  "
      ]
     },
     "execution_count": 234,
     "metadata": {},
     "output_type": "execute_result"
    }
   ],
   "source": [
    "columns = var_names[0:3] #ilk 3 kolon\n",
    "for column in columns:\n",
    "    dff[column] = dff[column].round() #ortalamaların alınması \n",
    "dff.tail()"
   ]
  },
  {
   "cell_type": "code",
   "execution_count": 235,
   "metadata": {},
   "outputs": [
    {
     "data": {
      "text/plain": [
       "city İd          0\n",
       "county İd        0\n",
       "district İd      0\n",
       "floor_no         0\n",
       "room_count       0\n",
       "brut_size        0\n",
       "size_net         0\n",
       "bathroomcount    0\n",
       "heating          0\n",
       "balkoy           0\n",
       "Price M2         0\n",
       "dtype: int64"
      ]
     },
     "execution_count": 235,
     "metadata": {},
     "output_type": "execute_result"
    }
   ],
   "source": [
    "dff.isnull().sum()"
   ]
  },
  {
   "cell_type": "code",
   "execution_count": null,
   "metadata": {},
   "outputs": [],
   "source": [
    "!pip install ycimpute"
   ]
  },
  {
   "cell_type": "markdown",
   "metadata": {},
   "source": [
    "# RANDOM FOREST"
   ]
  },
  {
   "cell_type": "code",
   "execution_count": 238,
   "metadata": {},
   "outputs": [],
   "source": [
    "from ycimpute.imputer import iterforest"
   ]
  },
  {
   "cell_type": "code",
   "execution_count": 239,
   "metadata": {},
   "outputs": [],
   "source": [
    "n_df = np.array(df)"
   ]
  },
  {
   "cell_type": "code",
   "execution_count": 240,
   "metadata": {},
   "outputs": [
    {
     "name": "stderr",
     "output_type": "stream",
     "text": [
      "C:\\Users\\ISA\\Anaconda3\\lib\\site-packages\\sklearn\\ensemble\\forest.py:245: FutureWarning: The default value of n_estimators will change from 10 in version 0.20 to 100 in 0.22.\n",
      "  \"10 in version 0.20 to 100 in 0.22.\", FutureWarning)\n"
     ]
    }
   ],
   "source": [
    "abc = iterforest.IterImput().complete(n_df)"
   ]
  },
  {
   "cell_type": "code",
   "execution_count": 241,
   "metadata": {},
   "outputs": [],
   "source": [
    "abc = pd.DataFrame(abc,columns=var_names)"
   ]
  },
  {
   "cell_type": "code",
   "execution_count": 242,
   "metadata": {
    "scrolled": true
   },
   "outputs": [
    {
     "data": {
      "text/html": [
       "<div>\n",
       "<style scoped>\n",
       "    .dataframe tbody tr th:only-of-type {\n",
       "        vertical-align: middle;\n",
       "    }\n",
       "\n",
       "    .dataframe tbody tr th {\n",
       "        vertical-align: top;\n",
       "    }\n",
       "\n",
       "    .dataframe thead th {\n",
       "        text-align: right;\n",
       "    }\n",
       "</style>\n",
       "<table border=\"1\" class=\"dataframe\">\n",
       "  <thead>\n",
       "    <tr style=\"text-align: right;\">\n",
       "      <th></th>\n",
       "      <th>city İd</th>\n",
       "      <th>county İd</th>\n",
       "      <th>district İd</th>\n",
       "    </tr>\n",
       "  </thead>\n",
       "  <tbody>\n",
       "    <tr>\n",
       "      <th>10112</th>\n",
       "      <td>1.0</td>\n",
       "      <td>2.0</td>\n",
       "      <td>68.0</td>\n",
       "    </tr>\n",
       "    <tr>\n",
       "      <th>10113</th>\n",
       "      <td>1.0</td>\n",
       "      <td>2.0</td>\n",
       "      <td>68.0</td>\n",
       "    </tr>\n",
       "    <tr>\n",
       "      <th>10114</th>\n",
       "      <td>1.0</td>\n",
       "      <td>2.0</td>\n",
       "      <td>68.0</td>\n",
       "    </tr>\n",
       "    <tr>\n",
       "      <th>10115</th>\n",
       "      <td>1.0</td>\n",
       "      <td>2.0</td>\n",
       "      <td>63.5</td>\n",
       "    </tr>\n",
       "    <tr>\n",
       "      <th>10116</th>\n",
       "      <td>1.0</td>\n",
       "      <td>2.0</td>\n",
       "      <td>67.6</td>\n",
       "    </tr>\n",
       "  </tbody>\n",
       "</table>\n",
       "</div>"
      ],
      "text/plain": [
       "       city İd  county İd  district İd\n",
       "10112      1.0        2.0         68.0\n",
       "10113      1.0        2.0         68.0\n",
       "10114      1.0        2.0         68.0\n",
       "10115      1.0        2.0         63.5\n",
       "10116      1.0        2.0         67.6"
      ]
     },
     "execution_count": 242,
     "metadata": {},
     "output_type": "execute_result"
    }
   ],
   "source": [
    "abc.iloc[:,:3].tail() ##Random Forest "
   ]
  },
  {
   "cell_type": "code",
   "execution_count": 243,
   "metadata": {},
   "outputs": [
    {
     "data": {
      "text/html": [
       "<div>\n",
       "<style scoped>\n",
       "    .dataframe tbody tr th:only-of-type {\n",
       "        vertical-align: middle;\n",
       "    }\n",
       "\n",
       "    .dataframe tbody tr th {\n",
       "        vertical-align: top;\n",
       "    }\n",
       "\n",
       "    .dataframe thead th {\n",
       "        text-align: right;\n",
       "    }\n",
       "</style>\n",
       "<table border=\"1\" class=\"dataframe\">\n",
       "  <thead>\n",
       "    <tr style=\"text-align: right;\">\n",
       "      <th></th>\n",
       "      <th>city İd</th>\n",
       "      <th>county İd</th>\n",
       "      <th>district İd</th>\n",
       "    </tr>\n",
       "  </thead>\n",
       "  <tbody>\n",
       "    <tr>\n",
       "      <th>10112</th>\n",
       "      <td>2.0</td>\n",
       "      <td>3.0</td>\n",
       "      <td>25.0</td>\n",
       "    </tr>\n",
       "    <tr>\n",
       "      <th>10113</th>\n",
       "      <td>3.0</td>\n",
       "      <td>3.0</td>\n",
       "      <td>23.0</td>\n",
       "    </tr>\n",
       "    <tr>\n",
       "      <th>10114</th>\n",
       "      <td>3.0</td>\n",
       "      <td>3.0</td>\n",
       "      <td>23.0</td>\n",
       "    </tr>\n",
       "    <tr>\n",
       "      <th>10115</th>\n",
       "      <td>3.0</td>\n",
       "      <td>3.0</td>\n",
       "      <td>63.0</td>\n",
       "    </tr>\n",
       "    <tr>\n",
       "      <th>10116</th>\n",
       "      <td>3.0</td>\n",
       "      <td>3.0</td>\n",
       "      <td>63.0</td>\n",
       "    </tr>\n",
       "  </tbody>\n",
       "</table>\n",
       "</div>"
      ],
      "text/plain": [
       "       city İd  county İd  district İd\n",
       "10112      2.0        3.0         25.0\n",
       "10113      3.0        3.0         23.0\n",
       "10114      3.0        3.0         23.0\n",
       "10115      3.0        3.0         63.0\n",
       "10116      3.0        3.0         63.0"
      ]
     },
     "execution_count": 243,
     "metadata": {},
     "output_type": "execute_result"
    }
   ],
   "source": [
    "dff.iloc[:,:3].tail() ## KNN"
   ]
  },
  {
   "cell_type": "code",
   "execution_count": null,
   "metadata": {},
   "outputs": [],
   "source": [
    "dff.to_excel('Knn_miss.xlsx', index = None, header=True) ## KNN ile doldurulmuş veri seti \n",
    "abc.to_excel('RndmForest_miss.xlsx',index=None, header= True) ##RandomForest ile doldurulmuş veri seti"
   ]
  }
 ],
 "metadata": {
  "kernelspec": {
   "display_name": "Python 3",
   "language": "python",
   "name": "python3"
  },
  "language_info": {
   "codemirror_mode": {
    "name": "ipython",
    "version": 3
   },
   "file_extension": ".py",
   "mimetype": "text/x-python",
   "name": "python",
   "nbconvert_exporter": "python",
   "pygments_lexer": "ipython3",
   "version": "3.7.1"
  }
 },
 "nbformat": 4,
 "nbformat_minor": 2
}
